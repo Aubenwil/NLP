{
 "cells": [
  {
   "cell_type": "code",
   "execution_count": 1,
   "id": "01e08bbb",
   "metadata": {},
   "outputs": [
    {
     "name": "stderr",
     "output_type": "stream",
     "text": [
      "[nltk_data] Downloading package brown to\n",
      "[nltk_data]     C:\\Users\\administrateur\\AppData\\Roaming\\nltk_data...\n",
      "[nltk_data]   Package brown is already up-to-date!\n",
      "[nltk_data] Downloading package punkt to\n",
      "[nltk_data]     C:\\Users\\administrateur\\AppData\\Roaming\\nltk_data...\n",
      "[nltk_data]   Package punkt is already up-to-date!\n"
     ]
    }
   ],
   "source": [
    "import nltk\n",
    "from nltk.corpus import brown\n",
    "from nltk.tokenize import RegexpTokenizer\n",
    "from collections import Counter\n",
    "import pandas as pd\n",
    "\n",
    "# Download NLTK resources\n",
    "nltk.download('brown')\n",
    "nltk.download('punkt')\n",
    "\n",
    "# Load and clean corpus\n",
    "tokenizer = RegexpTokenizer(r'\\w+')  # Removes punctuation\n",
    "text = brown.words()\n",
    "cleaned_text = [word.lower() for word in tokenizer.tokenize(\" \".join(text))]"
   ]
  },
  {
   "cell_type": "code",
   "execution_count": 2,
   "id": "7a27b645",
   "metadata": {},
   "outputs": [],
   "source": [
    "def get_ngrams_freq(tokens, n):\n",
    "    ngrams = zip(*[tokens[i:] for i in range(n)])\n",
    "    ngram_list = [' '.join(ng) for ng in ngrams]\n",
    "    freq = Counter(ngram_list)\n",
    "    df = pd.DataFrame(freq.items(), columns=['ngram', 'frequency']).sort_values(by='frequency', ascending=False)\n",
    "    return df.reset_index(drop=True)"
   ]
  },
  {
   "cell_type": "code",
   "execution_count": 5,
   "id": "86ca36ff",
   "metadata": {},
   "outputs": [
    {
     "name": "stdout",
     "output_type": "stream",
     "text": [
      "               ngram  frequency\n",
      "0         one of the        404\n",
      "1  the united states        340\n",
      "2         as well as        238\n",
      "3        some of the        179\n",
      "4         out of the        176\n"
     ]
    }
   ],
   "source": [
    "ngrams_df = get_ngrams_freq(cleaned_text, 3)\n",
    "print(ngrams_df.head())\n"
   ]
  },
  {
   "cell_type": "code",
   "execution_count": 3,
   "id": "f3da34e7",
   "metadata": {},
   "outputs": [],
   "source": [
    "def predict_next_words(tokens, input_seq, n=3, k=5):\n",
    "    prefix = \" \".join(input_seq.lower().split()[-(n-1):])  # Get last n-1 words\n",
    "    ngrams = zip(*[tokens[i:] for i in range(n)])\n",
    "    matches = [' '.join(ng) for ng in ngrams if ' '.join(ng[:n-1]) == prefix]\n",
    "\n",
    "    next_words = [ng.split()[-1] for ng in matches]\n",
    "    freq = Counter(next_words)\n",
    "    suggestions = freq.most_common(k)\n",
    "    return suggestions\n"
   ]
  },
  {
   "cell_type": "code",
   "execution_count": 4,
   "id": "d35b7bcc",
   "metadata": {},
   "outputs": [
    {
     "data": {
      "text/plain": [
       "[('states', 340), ('nations', 44), ('irish', 1), ('arab', 1), ('steel', 1)]"
      ]
     },
     "execution_count": 4,
     "metadata": {},
     "output_type": "execute_result"
    }
   ],
   "source": [
    "predict_next_words(cleaned_text, \"the united\", n=3, k=5)"
   ]
  }
 ],
 "metadata": {
  "kernelspec": {
   "display_name": "base",
   "language": "python",
   "name": "python3"
  },
  "language_info": {
   "codemirror_mode": {
    "name": "ipython",
    "version": 3
   },
   "file_extension": ".py",
   "mimetype": "text/x-python",
   "name": "python",
   "nbconvert_exporter": "python",
   "pygments_lexer": "ipython3",
   "version": "3.11.5"
  }
 },
 "nbformat": 4,
 "nbformat_minor": 5
}
